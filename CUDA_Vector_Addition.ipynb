{
  "nbformat": 4,
  "nbformat_minor": 0,
  "metadata": {
    "colab": {
      "provenance": [],
      "gpuType": "T4"
    },
    "kernelspec": {
      "name": "python3",
      "display_name": "Python 3"
    },
    "language_info": {
      "name": "python"
    },
    "accelerator": "GPU",
    "gpuClass": "standard"
  },
  "cells": [
    {
      "cell_type": "code",
      "execution_count": 2,
      "metadata": {
        "colab": {
          "base_uri": "https://localhost:8080/"
        },
        "id": "-WqnJ7TqD51p",
        "outputId": "24d654e4-7515-4685-df70-01b132c9ab26"
      },
      "outputs": [
        {
          "output_type": "stream",
          "name": "stdout",
          "text": [
            "Looking in indexes: https://pypi.org/simple, https://us-python.pkg.dev/colab-wheels/public/simple/\n",
            "Requirement already satisfied: numba in /usr/local/lib/python3.10/dist-packages (0.56.4)\n",
            "Requirement already satisfied: llvmlite<0.40,>=0.39.0dev0 in /usr/local/lib/python3.10/dist-packages (from numba) (0.39.1)\n",
            "Requirement already satisfied: numpy<1.24,>=1.18 in /usr/local/lib/python3.10/dist-packages (from numba) (1.22.4)\n",
            "Requirement already satisfied: setuptools in /usr/local/lib/python3.10/dist-packages (from numba) (67.7.2)\n"
          ]
        }
      ],
      "source": [
        "!pip install numba\n"
      ]
    },
    {
      "cell_type": "code",
      "source": [
        "import numpy as np\n",
        "from numba import cuda\n",
        "\n",
        "# CUDA kernel to perform vector addition\n",
        "@cuda.jit\n",
        "def vector_addition(a, b, result):\n",
        "    idx = cuda.threadIdx.x + cuda.blockDim.x * cuda.blockIdx.x\n",
        "    if idx < len(a):\n",
        "        result[idx] = a[idx] + b[idx]\n",
        "\n",
        "# User input for vector length\n",
        "vector_length = int(input(\"Enter the length of the vectors: \"))\n",
        "\n",
        "# User input for vector elements\n",
        "vector_a = np.zeros(vector_length, dtype=np.float32)\n",
        "vector_b = np.zeros(vector_length, dtype=np.float32)\n",
        "for i in range(vector_length):\n",
        "    vector_a[i] = float(input(\"Enter the element of vector a at index {}: \".format(i)))\n",
        "    vector_b[i] = float(input(\"Enter the element of vector b at index {}: \".format(i)))\n",
        "\n",
        "# Allocate memory on the GPU\n",
        "device_vector_a = cuda.to_device(vector_a)\n",
        "device_vector_b = cuda.to_device(vector_b)\n",
        "device_result = cuda.device_array_like(vector_a)\n",
        "\n",
        "# Define the number of threads per block and the number of blocks\n",
        "threads_per_block = 32\n",
        "blocks_per_grid = (vector_length + (threads_per_block - 1)) // threads_per_block\n",
        "\n",
        "# Launch the kernel\n",
        "vector_addition[blocks_per_grid, threads_per_block](device_vector_a, device_vector_b, device_result)\n",
        "\n",
        "# Copy the result back to the CPU\n",
        "result = device_result.copy_to_host()\n",
        "\n",
        "# Print the result\n",
        "print(\"Result:\", result)\n"
      ],
      "metadata": {
        "colab": {
          "base_uri": "https://localhost:8080/"
        },
        "id": "QMOfd2voEpen",
        "outputId": "ce24e2f1-ad04-4ee9-d922-0f0ad13cd76b"
      },
      "execution_count": 4,
      "outputs": [
        {
          "output_type": "stream",
          "name": "stdout",
          "text": [
            "Enter the length of the vectors: 2\n",
            "Enter the element of vector a at index 0: 5\n",
            "Enter the element of vector b at index 0: 5\n",
            "Enter the element of vector a at index 1: 6\n",
            "Enter the element of vector b at index 1: 6\n",
            "Result: [10. 12.]\n"
          ]
        },
        {
          "output_type": "stream",
          "name": "stderr",
          "text": [
            "/usr/local/lib/python3.10/dist-packages/numba/cuda/dispatcher.py:488: NumbaPerformanceWarning: Grid size 1 will likely result in GPU under-utilization due to low occupancy.\n",
            "  warn(NumbaPerformanceWarning(msg))\n"
          ]
        }
      ]
    }
  ]
}