{
  "cells": [
    {
      "cell_type": "code",
      "source": [
        "import numpy as np\n",
        "import pandas as pd\n",
        "from sklearn.model_selection import train_test_split\n",
        "from sklearn.preprocessing import StandardScaler\n",
        "from sklearn.metrics import mean_squared_error\n",
        "from tensorflow.keras.datasets import boston_housing\n",
        "import tensorflow as tf\n",
        "from tensorflow.keras.models import Sequential\n",
        "from tensorflow.keras.layers import Dense\n"
      ],
      "metadata": {
        "id": "1Hg89by65Xb-"
      },
      "id": "1Hg89by65Xb-",
      "execution_count": 5,
      "outputs": []
    },
    {
      "cell_type": "code",
      "source": [
        "# Load the Boston Housing dataset\n",
        "(X_train, y_train), (X_test, y_test) = boston_housing.load_data()\n",
        "\n",
        "# Scale the features using StandardScaler\n",
        "scaler = StandardScaler()\n",
        "X_train = scaler.fit_transform(X_train)\n",
        "X_test = scaler.transform(X_test)\n"
      ],
      "metadata": {
        "colab": {
          "base_uri": "https://localhost:8080/"
        },
        "id": "f6m1CbgG5xFh",
        "outputId": "f822bb4e-acd9-45b6-aa6e-5ee2bc235097"
      },
      "id": "f6m1CbgG5xFh",
      "execution_count": 6,
      "outputs": [
        {
          "output_type": "stream",
          "name": "stdout",
          "text": [
            "Downloading data from https://storage.googleapis.com/tensorflow/tf-keras-datasets/boston_housing.npz\n",
            "57026/57026 [==============================] - 0s 0us/step\n"
          ]
        }
      ]
    },
    {
      "cell_type": "code",
      "source": [
        "model = Sequential()\n",
        "model.add(Dense(64, activation='relu', input_shape=(X_train.shape[1],)))\n",
        "model.add(Dense(64, activation='relu'))\n",
        "model.add(Dense(1))\n",
        "\n",
        "# Compile the model\n",
        "model.compile(optimizer='adam', loss='mean_squared_error')\n"
      ],
      "metadata": {
        "id": "cp86IP_Q5xHs"
      },
      "id": "cp86IP_Q5xHs",
      "execution_count": 7,
      "outputs": []
    },
    {
      "cell_type": "code",
      "source": [
        "history = model.fit(X_train, y_train, epochs=100, batch_size=32, validation_split=0.2)\n"
      ],
      "metadata": {
        "colab": {
          "base_uri": "https://localhost:8080/"
        },
        "id": "DlOer0f05xK2",
        "outputId": "1b781656-2f3c-4458-87e3-be4269568570"
      },
      "id": "DlOer0f05xK2",
      "execution_count": 8,
      "outputs": [
        {
          "output_type": "stream",
          "name": "stdout",
          "text": [
            "Epoch 1/100\n",
            "11/11 [==============================] - 1s 30ms/step - loss: 575.1657 - val_loss: 621.2485\n",
            "Epoch 2/100\n",
            "11/11 [==============================] - 0s 6ms/step - loss: 533.0309 - val_loss: 577.9723\n",
            "Epoch 3/100\n",
            "11/11 [==============================] - 0s 8ms/step - loss: 490.3979 - val_loss: 526.6955\n",
            "Epoch 4/100\n",
            "11/11 [==============================] - 0s 5ms/step - loss: 439.7062 - val_loss: 461.9177\n",
            "Epoch 5/100\n",
            "11/11 [==============================] - 0s 7ms/step - loss: 372.7070 - val_loss: 383.9773\n",
            "Epoch 6/100\n",
            "11/11 [==============================] - 0s 5ms/step - loss: 294.4743 - val_loss: 291.8806\n",
            "Epoch 7/100\n",
            "11/11 [==============================] - 0s 11ms/step - loss: 210.8589 - val_loss: 200.9923\n",
            "Epoch 8/100\n",
            "11/11 [==============================] - 0s 5ms/step - loss: 137.6066 - val_loss: 128.6196\n",
            "Epoch 9/100\n",
            "11/11 [==============================] - 0s 7ms/step - loss: 88.0976 - val_loss: 89.0277\n",
            "Epoch 10/100\n",
            "11/11 [==============================] - 0s 6ms/step - loss: 66.5830 - val_loss: 71.1129\n",
            "Epoch 11/100\n",
            "11/11 [==============================] - 0s 5ms/step - loss: 55.4269 - val_loss: 58.5776\n",
            "Epoch 12/100\n",
            "11/11 [==============================] - 0s 5ms/step - loss: 46.7027 - val_loss: 49.3278\n",
            "Epoch 13/100\n",
            "11/11 [==============================] - 0s 7ms/step - loss: 40.1935 - val_loss: 42.7848\n",
            "Epoch 14/100\n",
            "11/11 [==============================] - 0s 5ms/step - loss: 35.8082 - val_loss: 37.7038\n",
            "Epoch 15/100\n",
            "11/11 [==============================] - 0s 5ms/step - loss: 32.4972 - val_loss: 32.8926\n",
            "Epoch 16/100\n",
            "11/11 [==============================] - 0s 5ms/step - loss: 30.0731 - val_loss: 29.2744\n",
            "Epoch 17/100\n",
            "11/11 [==============================] - 0s 7ms/step - loss: 28.0721 - val_loss: 27.3232\n",
            "Epoch 18/100\n",
            "11/11 [==============================] - 0s 5ms/step - loss: 26.1170 - val_loss: 26.1097\n",
            "Epoch 19/100\n",
            "11/11 [==============================] - 0s 8ms/step - loss: 24.9452 - val_loss: 25.2305\n",
            "Epoch 20/100\n",
            "11/11 [==============================] - 0s 7ms/step - loss: 23.8773 - val_loss: 23.9537\n",
            "Epoch 21/100\n",
            "11/11 [==============================] - 0s 7ms/step - loss: 22.8119 - val_loss: 23.0862\n",
            "Epoch 22/100\n",
            "11/11 [==============================] - 0s 7ms/step - loss: 21.9649 - val_loss: 22.5112\n",
            "Epoch 23/100\n",
            "11/11 [==============================] - 0s 5ms/step - loss: 21.1587 - val_loss: 21.6714\n",
            "Epoch 24/100\n",
            "11/11 [==============================] - 0s 5ms/step - loss: 20.7209 - val_loss: 20.7021\n",
            "Epoch 25/100\n",
            "11/11 [==============================] - 0s 7ms/step - loss: 19.8619 - val_loss: 19.9964\n",
            "Epoch 26/100\n",
            "11/11 [==============================] - 0s 7ms/step - loss: 18.9216 - val_loss: 19.4426\n",
            "Epoch 27/100\n",
            "11/11 [==============================] - 0s 5ms/step - loss: 18.1793 - val_loss: 18.8388\n",
            "Epoch 28/100\n",
            "11/11 [==============================] - 0s 5ms/step - loss: 17.4995 - val_loss: 18.3498\n",
            "Epoch 29/100\n",
            "11/11 [==============================] - 0s 7ms/step - loss: 16.8119 - val_loss: 17.7678\n",
            "Epoch 30/100\n",
            "11/11 [==============================] - 0s 6ms/step - loss: 16.3324 - val_loss: 17.4753\n",
            "Epoch 31/100\n",
            "11/11 [==============================] - 0s 6ms/step - loss: 15.9068 - val_loss: 17.3104\n",
            "Epoch 32/100\n",
            "11/11 [==============================] - 0s 7ms/step - loss: 15.4310 - val_loss: 16.9819\n",
            "Epoch 33/100\n",
            "11/11 [==============================] - 0s 7ms/step - loss: 15.1258 - val_loss: 16.7196\n",
            "Epoch 34/100\n",
            "11/11 [==============================] - 0s 7ms/step - loss: 14.6835 - val_loss: 16.1738\n",
            "Epoch 35/100\n",
            "11/11 [==============================] - 0s 6ms/step - loss: 14.5019 - val_loss: 15.9883\n",
            "Epoch 36/100\n",
            "11/11 [==============================] - 0s 6ms/step - loss: 14.0608 - val_loss: 15.8017\n",
            "Epoch 37/100\n",
            "11/11 [==============================] - 0s 5ms/step - loss: 13.8635 - val_loss: 15.3157\n",
            "Epoch 38/100\n",
            "11/11 [==============================] - 0s 5ms/step - loss: 13.5244 - val_loss: 14.8680\n",
            "Epoch 39/100\n",
            "11/11 [==============================] - 0s 8ms/step - loss: 13.3894 - val_loss: 14.5101\n",
            "Epoch 40/100\n",
            "11/11 [==============================] - 0s 5ms/step - loss: 13.1207 - val_loss: 14.5585\n",
            "Epoch 41/100\n",
            "11/11 [==============================] - 0s 5ms/step - loss: 12.6613 - val_loss: 14.7725\n",
            "Epoch 42/100\n",
            "11/11 [==============================] - 0s 7ms/step - loss: 12.4888 - val_loss: 14.5827\n",
            "Epoch 43/100\n",
            "11/11 [==============================] - 0s 7ms/step - loss: 12.1548 - val_loss: 14.1556\n",
            "Epoch 44/100\n",
            "11/11 [==============================] - 0s 5ms/step - loss: 12.0256 - val_loss: 13.7905\n",
            "Epoch 45/100\n",
            "11/11 [==============================] - 0s 5ms/step - loss: 11.8428 - val_loss: 13.5482\n",
            "Epoch 46/100\n",
            "11/11 [==============================] - 0s 5ms/step - loss: 11.5751 - val_loss: 13.7825\n",
            "Epoch 47/100\n",
            "11/11 [==============================] - 0s 8ms/step - loss: 11.4045 - val_loss: 13.8140\n",
            "Epoch 48/100\n",
            "11/11 [==============================] - 0s 5ms/step - loss: 11.2709 - val_loss: 13.7131\n",
            "Epoch 49/100\n",
            "11/11 [==============================] - 0s 5ms/step - loss: 10.9976 - val_loss: 13.4736\n",
            "Epoch 50/100\n",
            "11/11 [==============================] - 0s 7ms/step - loss: 10.8879 - val_loss: 13.5007\n",
            "Epoch 51/100\n",
            "11/11 [==============================] - 0s 7ms/step - loss: 10.7975 - val_loss: 13.2221\n",
            "Epoch 52/100\n",
            "11/11 [==============================] - 0s 6ms/step - loss: 10.6652 - val_loss: 13.3908\n",
            "Epoch 53/100\n",
            "11/11 [==============================] - 0s 5ms/step - loss: 10.6054 - val_loss: 13.6768\n",
            "Epoch 54/100\n",
            "11/11 [==============================] - 0s 6ms/step - loss: 10.3993 - val_loss: 13.5284\n",
            "Epoch 55/100\n",
            "11/11 [==============================] - 0s 5ms/step - loss: 10.3385 - val_loss: 13.3499\n",
            "Epoch 56/100\n",
            "11/11 [==============================] - 0s 8ms/step - loss: 10.1077 - val_loss: 13.3333\n",
            "Epoch 57/100\n",
            "11/11 [==============================] - 0s 8ms/step - loss: 10.0185 - val_loss: 13.4319\n",
            "Epoch 58/100\n",
            "11/11 [==============================] - 0s 8ms/step - loss: 9.8818 - val_loss: 13.2558\n",
            "Epoch 59/100\n",
            "11/11 [==============================] - 0s 8ms/step - loss: 9.7873 - val_loss: 13.1379\n",
            "Epoch 60/100\n",
            "11/11 [==============================] - 0s 9ms/step - loss: 9.7163 - val_loss: 13.1936\n",
            "Epoch 61/100\n",
            "11/11 [==============================] - 0s 9ms/step - loss: 9.6196 - val_loss: 13.3778\n",
            "Epoch 62/100\n",
            "11/11 [==============================] - 0s 8ms/step - loss: 9.6274 - val_loss: 13.4586\n",
            "Epoch 63/100\n",
            "11/11 [==============================] - 0s 8ms/step - loss: 9.6401 - val_loss: 13.6955\n",
            "Epoch 64/100\n",
            "11/11 [==============================] - 0s 7ms/step - loss: 9.4977 - val_loss: 13.4240\n",
            "Epoch 65/100\n",
            "11/11 [==============================] - 0s 7ms/step - loss: 9.3193 - val_loss: 13.3169\n",
            "Epoch 66/100\n",
            "11/11 [==============================] - 0s 6ms/step - loss: 9.2618 - val_loss: 13.1262\n",
            "Epoch 67/100\n",
            "11/11 [==============================] - 0s 7ms/step - loss: 9.2717 - val_loss: 13.1731\n",
            "Epoch 68/100\n",
            "11/11 [==============================] - 0s 8ms/step - loss: 9.1644 - val_loss: 13.3342\n",
            "Epoch 69/100\n",
            "11/11 [==============================] - 0s 7ms/step - loss: 9.0770 - val_loss: 13.2652\n",
            "Epoch 70/100\n",
            "11/11 [==============================] - 0s 8ms/step - loss: 9.0793 - val_loss: 13.7172\n",
            "Epoch 71/100\n",
            "11/11 [==============================] - 0s 14ms/step - loss: 8.9589 - val_loss: 13.7104\n",
            "Epoch 72/100\n",
            "11/11 [==============================] - 0s 12ms/step - loss: 8.9177 - val_loss: 13.8369\n",
            "Epoch 73/100\n",
            "11/11 [==============================] - 0s 9ms/step - loss: 8.8516 - val_loss: 13.4360\n",
            "Epoch 74/100\n",
            "11/11 [==============================] - 0s 8ms/step - loss: 8.8867 - val_loss: 13.2033\n",
            "Epoch 75/100\n",
            "11/11 [==============================] - 0s 10ms/step - loss: 8.7572 - val_loss: 13.4050\n",
            "Epoch 76/100\n",
            "11/11 [==============================] - 0s 10ms/step - loss: 8.6460 - val_loss: 13.3266\n",
            "Epoch 77/100\n",
            "11/11 [==============================] - 0s 10ms/step - loss: 8.7061 - val_loss: 13.4673\n",
            "Epoch 78/100\n",
            "11/11 [==============================] - 0s 14ms/step - loss: 8.6184 - val_loss: 13.5329\n",
            "Epoch 79/100\n",
            "11/11 [==============================] - 0s 14ms/step - loss: 8.5190 - val_loss: 13.6002\n",
            "Epoch 80/100\n",
            "11/11 [==============================] - 0s 16ms/step - loss: 8.4821 - val_loss: 13.2396\n",
            "Epoch 81/100\n",
            "11/11 [==============================] - 0s 10ms/step - loss: 8.4755 - val_loss: 13.2568\n",
            "Epoch 82/100\n",
            "11/11 [==============================] - 0s 13ms/step - loss: 8.3570 - val_loss: 13.4913\n",
            "Epoch 83/100\n",
            "11/11 [==============================] - 0s 9ms/step - loss: 8.3270 - val_loss: 13.5772\n",
            "Epoch 84/100\n",
            "11/11 [==============================] - 0s 14ms/step - loss: 8.3678 - val_loss: 13.8393\n",
            "Epoch 85/100\n",
            "11/11 [==============================] - 0s 9ms/step - loss: 8.2537 - val_loss: 13.4204\n",
            "Epoch 86/100\n",
            "11/11 [==============================] - 0s 8ms/step - loss: 8.2931 - val_loss: 13.4565\n",
            "Epoch 87/100\n",
            "11/11 [==============================] - 0s 8ms/step - loss: 8.1991 - val_loss: 13.8846\n",
            "Epoch 88/100\n",
            "11/11 [==============================] - 0s 9ms/step - loss: 8.3564 - val_loss: 14.2901\n",
            "Epoch 89/100\n",
            "11/11 [==============================] - 0s 9ms/step - loss: 8.2246 - val_loss: 13.7914\n",
            "Epoch 90/100\n",
            "11/11 [==============================] - 0s 6ms/step - loss: 8.1874 - val_loss: 13.5823\n",
            "Epoch 91/100\n",
            "11/11 [==============================] - 0s 6ms/step - loss: 8.1681 - val_loss: 13.8696\n",
            "Epoch 92/100\n",
            "11/11 [==============================] - 0s 6ms/step - loss: 8.0821 - val_loss: 14.0779\n",
            "Epoch 93/100\n",
            "11/11 [==============================] - 0s 7ms/step - loss: 7.9710 - val_loss: 13.8430\n",
            "Epoch 94/100\n",
            "11/11 [==============================] - 0s 7ms/step - loss: 7.9523 - val_loss: 13.9643\n",
            "Epoch 95/100\n",
            "11/11 [==============================] - 0s 6ms/step - loss: 7.9027 - val_loss: 13.8925\n",
            "Epoch 96/100\n",
            "11/11 [==============================] - 0s 7ms/step - loss: 7.9645 - val_loss: 14.2009\n",
            "Epoch 97/100\n",
            "11/11 [==============================] - 0s 8ms/step - loss: 7.8814 - val_loss: 13.7754\n",
            "Epoch 98/100\n",
            "11/11 [==============================] - 0s 7ms/step - loss: 7.8942 - val_loss: 13.9217\n",
            "Epoch 99/100\n",
            "11/11 [==============================] - 0s 8ms/step - loss: 7.8112 - val_loss: 14.6821\n",
            "Epoch 100/100\n",
            "11/11 [==============================] - 0s 6ms/step - loss: 7.8480 - val_loss: 14.3111\n"
          ]
        }
      ]
    },
    {
      "cell_type": "code",
      "source": [
        "# Make predictions on the test set\n",
        "y_pred = model.predict(X_test)\n",
        "\n",
        "# Calculate the mean squared error\n",
        "mse = mean_squared_error(y_test, y_pred)\n",
        "print(\"Mean Squared Error:\", mse)\n"
      ],
      "metadata": {
        "colab": {
          "base_uri": "https://localhost:8080/"
        },
        "id": "q19iiUHn6ADF",
        "outputId": "460dee97-1097-4e90-dd68-941c4d47ee3c"
      },
      "id": "q19iiUHn6ADF",
      "execution_count": 9,
      "outputs": [
        {
          "output_type": "stream",
          "name": "stdout",
          "text": [
            "4/4 [==============================] - 0s 3ms/step\n",
            "Mean Squared Error: 26.604233909763597\n"
          ]
        }
      ]
    },
    {
      "cell_type": "code",
      "source": [],
      "metadata": {
        "id": "u_2FBZ6d6AGj"
      },
      "id": "u_2FBZ6d6AGj",
      "execution_count": null,
      "outputs": []
    }
  ],
  "metadata": {
    "kernelspec": {
      "display_name": "Python 3 (ipykernel)",
      "language": "python",
      "name": "python3"
    },
    "language_info": {
      "codemirror_mode": {
        "name": "ipython",
        "version": 3
      },
      "file_extension": ".py",
      "mimetype": "text/x-python",
      "name": "python",
      "nbconvert_exporter": "python",
      "pygments_lexer": "ipython3",
      "version": "3.9.0"
    },
    "colab": {
      "provenance": []
    }
  },
  "nbformat": 4,
  "nbformat_minor": 5
}